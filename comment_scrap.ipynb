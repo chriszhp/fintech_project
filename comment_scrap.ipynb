{
 "cells": [
  {
   "cell_type": "code",
   "execution_count": null,
   "metadata": {},
   "outputs": [],
   "source": [
    "!pip install app-store-scraper google-play-scraper bs4"
   ]
  },
  {
   "attachments": {},
   "cell_type": "markdown",
   "metadata": {},
   "source": [
    "# App Store Comment Scrap"
   ]
  },
  {
   "cell_type": "code",
   "execution_count": null,
   "metadata": {},
   "outputs": [],
   "source": [
    "from app_store_scraper import AppStore\n",
    "import pandas as pd\n",
    "import numpy as np\n",
    "import json"
   ]
  },
  {
   "cell_type": "code",
   "execution_count": null,
   "metadata": {},
   "outputs": [],
   "source": [
    "def get_reviews(country, app_name, app_id):\n",
    "    app = AppStore(\n",
    "        country, app_name, app_id\n",
    "    )\n",
    "    app.review()\n",
    "    return app.reviews\n",
    "\n",
    "\n",
    "def export_report(data):\n",
    "    df = pd.DataFrame(np.array(data),columns=['review'])\n",
    "    df2 = df.join(pd.DataFrame(df.pop('review').tolist()))\n",
    "    return df2\n",
    "\n",
    "def app_store_scrap(queries):\n",
    "    for i in range(len(queries)):\n",
    "        country = queries['country'][i]\n",
    "        app_name = queries['app_name'][i]\n",
    "        app_id = queries['app_id'][i]\n",
    "        app = get_reviews(country=country, app_name=app_name, app_id=app_id)\n",
    "        df = export_report(app)\n",
    "        df.to_csv(f'{app_name}.csv')\n",
    "        print(f'{app_name}.csv saved')"
   ]
  },
  {
   "cell_type": "code",
   "execution_count": null,
   "metadata": {},
   "outputs": [],
   "source": [
    "country = ['hk','hk','hk','hk','hk']\n",
    "app_name = ['hang-seng-invest-express','hang-seng-personal-banking','hsbc-hk-mobile-banking','bochk','dbs-digibank-hk']\n",
    "app_id = [1489143798,1039256353,1164066737,1534534188,1341250080]\n",
    "queries = pd.DataFrame({'country':country,'app_name':app_name,'app_id':app_id})\n",
    "app_store_scrap(queries)"
   ]
  },
  {
   "attachments": {},
   "cell_type": "markdown",
   "metadata": {},
   "source": [
    "# Google Play Comment Scrap"
   ]
  },
  {
   "cell_type": "code",
   "execution_count": null,
   "metadata": {},
   "outputs": [],
   "source": [
    "from google_play_scraper import Sort, reviews_all"
   ]
  },
  {
   "cell_type": "code",
   "execution_count": null,
   "metadata": {},
   "outputs": [],
   "source": [
    "def google_play_scrap(queries):\n",
    "    for i in range(len(queries)):\n",
    "        app_id = queries['app_id'][i]\n",
    "        result = reviews_all(\n",
    "            app_id,\n",
    "            sleep_milliseconds=0, # defaults to 0\n",
    "            lang='en', # defaults to 'en'\n",
    "            country='hk', # defaults to 'us'\n",
    "            sort=Sort.MOST_RELEVANT, # defaults to Sort.MOST_RELEVANT\n",
    "            filter_score_with=None # defaults to None(means all score)\n",
    "        )\n",
    "        pd.DataFrame(result).to_csv(f'{app_id}.csv')\n",
    "        print(f'{app_id}.csv saved')"
   ]
  },
  {
   "cell_type": "code",
   "execution_count": null,
   "metadata": {},
   "outputs": [],
   "source": [
    "app_id = ['com.hangseng.invex','com.hangseng.rbmobile','com.bochk.app.aos','hk.com.hsbc.hsbchkmobilebanking','com.dbs.hk.iwealthhk']\n",
    "queries = pd.DataFrame({'app_id':app_id})\n",
    "google_play_scrap(queries)"
   ]
  },
  {
   "attachments": {},
   "cell_type": "markdown",
   "metadata": {},
   "source": [
    "# HK Discuss Forum Comment Scrap"
   ]
  },
  {
   "cell_type": "markdown",
   "metadata": {},
   "source": [
    "cloudflare protection enforced, this version is not applicable now."
   ]
  },
  {
   "cell_type": "code",
   "execution_count": null,
   "metadata": {},
   "outputs": [],
   "source": [
    "from bs4 import BeautifulSoup\n",
    "import requests\n",
    "from tqdm import tqdm\n",
    "import pandas as pd\n",
    "import openpyxl"
   ]
  },
  {
   "cell_type": "code",
   "execution_count": null,
   "metadata": {},
   "outputs": [],
   "source": [
    "import requests\n",
    "from bs4 import BeautifulSoup\n",
    "import pandas as pd\n",
    "from tqdm import tqdm\n",
    "\n",
    "def extract(text):\n",
    "    temp = text.find('發表')\n",
    "    if temp == -1:\n",
    "        return text[text.find(':', 4) + 9:]\n",
    "    else:\n",
    "        return text[text.find(' ', temp + 3):].strip()\n",
    "\n",
    "def scrap(keywords):\n",
    "    root = 'https://www.discuss.com.hk'\n",
    "\n",
    "    for keyword in keywords:\n",
    "        website = f'{root}/search.php?searchsubmit=true&srchtxt={keyword}&tr_h=rcju99Xx6eC&srchfid[]=57'\n",
    "\n",
    "        # initialization\n",
    "        links = []\n",
    "        check = []\n",
    "        result = requests.get(website)\n",
    "        content = result.text\n",
    "        soup = BeautifulSoup(content, \"lxml\")\n",
    "\n",
    "        # pagination\n",
    "        pagination = soup.find('div', class_='pagination')\n",
    "        pages = pagination.find_all('a')\n",
    "        try:\n",
    "            last_page = int(pages[-2].text)\n",
    "        except:\n",
    "            last_page = 50\n",
    "\n",
    "        # parse\n",
    "        record = pd.DataFrame(columns=['date', 'comments', 'quote', 'link'])\n",
    "\n",
    "        for page in tqdm(range(1, last_page + 1)):\n",
    "            sub_result = requests.get(f'{website}&page={page}')\n",
    "            sub_content = sub_result.text\n",
    "            soup = BeautifulSoup(sub_content, 'lxml')\n",
    "            box = soup.find('div', class_='search-result')\n",
    "            for item in box.find_all('span', class_='search-result-subject'):\n",
    "                link = item.find('a', href=True)\n",
    "                links.append(link['href'])\n",
    "\n",
    "        for link in tqdm(links):\n",
    "            try:\n",
    "                sub_result = requests.get(link)\n",
    "                sub_content = sub_result.text\n",
    "                soup = BeautifulSoup(sub_content, 'lxml')\n",
    "                box = soup.find('div', class_='mainbox-container mb-t_msgfont')\n",
    "                comments = box.find_all('div', class_='postmessage-content t_msgfont')\n",
    "                dates = box.find_all('div', class_='post-date')\n",
    "                temp1, temp2, temp3, temp4 = [],[],[],[]\n",
    "                for i in range(len(comments)):\n",
    "                    try:\n",
    "                        date = extract(dates[i].get_text())\n",
    "                        quote = comments[i].find('blockquote').get_text()\n",
    "                        comment = comments[i].get_text()[len(quote) + 5:]\n",
    "                        temp1.append(date)\n",
    "                        temp2.append(comment)\n",
    "                        temp3.append(quote)\n",
    "                        temp4.append(link)\n",
    "                    except:\n",
    "                        date = extract(dates[i].get_text())\n",
    "                        quote = ''\n",
    "                        comment = comments[i].get_text()\n",
    "                        temp1.append(date)\n",
    "                        temp2.append(comment)\n",
    "                        temp3.append(quote)\n",
    "                        temp4.append(link)\n",
    "            except:\n",
    "                print('----- Link not working -----')\n",
    "                print(link)\n",
    "                check.append(link)\n",
    "            page_data = pd.DataFrame({'date': temp1, 'comments': temp2, 'quote': temp3, 'link': temp4})\n",
    "            record = pd.concat([page_data, record]).reset_index(drop=True)\n",
    "        record['product'] = keyword       \n",
    "        record.to_csv(f'{keyword}.csv',index=False)\n",
    "        print(f'{keyword}.csv saved')\n"
   ]
  },
  {
   "cell_type": "code",
   "execution_count": null,
   "metadata": {},
   "outputs": [],
   "source": [
    "keywords = ['股票掛鈎投資','可贖回']\n",
    "scrap(keywords)"
   ]
  }
 ],
 "metadata": {
  "kernelspec": {
   "display_name": "test",
   "language": "python",
   "name": "python3"
  },
  "language_info": {
   "codemirror_mode": {
    "name": "ipython",
    "version": 3
   },
   "file_extension": ".py",
   "mimetype": "text/x-python",
   "name": "python",
   "nbconvert_exporter": "python",
   "pygments_lexer": "ipython3",
   "version": "3.8.15"
  },
  "orig_nbformat": 4,
  "vscode": {
   "interpreter": {
    "hash": "a8aac0b6a3e67f35bcd67088a857342b2a6b50e1135570ee0f841fb10732c056"
   }
  }
 },
 "nbformat": 4,
 "nbformat_minor": 2
}
